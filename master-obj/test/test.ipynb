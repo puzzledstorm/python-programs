{
 "cells": [
  {
   "cell_type": "code",
   "execution_count": 11,
   "metadata": {},
   "outputs": [
    {
     "name": "stdout",
     "output_type": "stream",
     "text": [
      "satrt\n"
     ]
    }
   ],
   "source": [
    "print(\"satrt\")"
   ]
  },
  {
   "cell_type": "code",
   "execution_count": 1,
   "metadata": {},
   "outputs": [
    {
     "data": {
      "text/plain": [
       "8"
      ]
     },
     "execution_count": 1,
     "metadata": {},
     "output_type": "execute_result"
    }
   ],
   "source": [
    "def F(n: int) -> int:\n",
    "    if n in (0, 1):\n",
    "        return 1\n",
    "    else:\n",
    "        return F(n-1) + F(n-2)\n",
    "\n",
    "F(5)"
   ]
  },
  {
   "cell_type": "code",
   "execution_count": 1,
   "metadata": {},
   "outputs": [
    {
     "data": {
      "text/plain": [
       "[1, 1, 2, 3, 5]"
      ]
     },
     "execution_count": 1,
     "metadata": {},
     "output_type": "execute_result"
    }
   ],
   "source": [
    "f = [1, 1, 2, 3]\n",
    "f += [f[-1] + f[-2]]\n",
    "f"
   ]
  },
  {
   "cell_type": "markdown",
   "metadata": {},
   "source": [
    "In the case of mixed types, the\n",
    "implementation of the binary operator may coerce one value into another type.\n",
    "f[-1] + f[-2], then, is implemented as f.__getitem__(-1).__add__(f.__getitem__(-2))"
   ]
  },
  {
   "cell_type": "code",
   "execution_count": 5,
   "metadata": {},
   "outputs": [
    {
     "data": {
      "text/plain": [
       "5"
      ]
     },
     "execution_count": 5,
     "metadata": {},
     "output_type": "execute_result"
    }
   ],
   "source": [
    "f = [1, 1, 2, 3]\n",
    "f.__getitem__(-1).__add__(f.__getitem__(-2))"
   ]
  },
  {
   "cell_type": "code",
   "execution_count": 7,
   "metadata": {},
   "outputs": [
    {
     "data": {
      "text/plain": [
       "[1, 1, 2, 3, 5]"
      ]
     },
     "execution_count": 7,
     "metadata": {},
     "output_type": "execute_result"
    }
   ],
   "source": [
    "f = [1, 1, 2, 3]\n",
    "x = f.__getitem__(-1).__add__(f.__getitem__(-2))\n",
    "# f += [x]\n",
    "f.__iadd__([x])"
   ]
  },
  {
   "cell_type": "markdown",
   "metadata": {},
   "source": [
    "Throughout the first eight chapters, we'll look very closely at these special\n",
    "methods and how we can design our classes to integrate very tightly with\n",
    "Python's built-in language features.  **Mastering the special methods is the essence of mastering object-oriented Python.**"
   ]
  },
  {
   "cell_type": "markdown",
   "metadata": {},
   "source": [
    "This is handy for some experimentation. Our goal is to build tools, frameworks,\n",
    "and applications. While many of the examples will be shown in an interactive\n",
    "style, most of the actual programming will be via script file"
   ]
  },
  {
   "cell_type": "code",
   "execution_count": 1,
   "metadata": {},
   "outputs": [
    {
     "name": "stdout",
     "output_type": "stream",
     "text": [
      "Method   0.3013\n",
      "Function 0.1598\n"
     ]
    }
   ],
   "source": [
    "import timeit\n",
    "\n",
    "method_time = timeit.timeit(\n",
    "    \"obj.method()\",\n",
    "    \"\"\"\n",
    "class SomeClass:\n",
    "    def method(self):\n",
    "        pass\n",
    "obj= SomeClass()\n",
    "\"\"\",\n",
    ")\n",
    "\n",
    "function_time = timeit.timeit(\n",
    "    \"f()\",\n",
    "    \"\"\"\n",
    "def f():\n",
    "    pass\n",
    "\"\"\",\n",
    ")\n",
    "\n",
    "if __name__ == \"__main__\":\n",
    "    print(f\"Method   {method_time:.4f}\")\n",
    "    print(f\"Function {function_time:.4f}\")"
   ]
  },
  {
   "cell_type": "code",
   "execution_count": null,
   "metadata": {},
   "outputs": [],
   "source": [
    "class A:\n",
    "    def __init(self):\n",
    "        if 'x' in self.__dict__:\n",
    "            #code-to-handle-optional-attribute\n",
    "            pass\n",
    "\n",
    "        try:\n",
    "            self.x\n",
    "        except AttributeError:\n",
    "            # code-to-handle-optional-attribute\n",
    "            pass"
   ]
  }
 ],
 "metadata": {
  "kernelspec": {
   "display_name": "Python 3.10.4 64-bit",
   "language": "python",
   "name": "python3"
  },
  "language_info": {
   "codemirror_mode": {
    "name": "ipython",
    "version": 3
   },
   "file_extension": ".py",
   "mimetype": "text/x-python",
   "name": "python",
   "nbconvert_exporter": "python",
   "pygments_lexer": "ipython3",
   "version": "3.10.4"
  },
  "orig_nbformat": 4,
  "vscode": {
   "interpreter": {
    "hash": "3ad933181bd8a04b432d3370b9dc3b0662ad032c4dfaa4e4f1596c548f763858"
   }
  }
 },
 "nbformat": 4,
 "nbformat_minor": 2
}
